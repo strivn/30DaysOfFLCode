{
 "cells": [
  {
   "cell_type": "code",
   "execution_count": 1,
   "metadata": {},
   "outputs": [],
   "source": [
    "from sklearn.datasets import make_classification\n",
    "from sklearn.model_selection import train_test_split\n",
    "\n",
    "from concrete.ml.sklearn import LogisticRegression, DecisionTreeClassifier, RandomForestClassifier\n",
    "from sklearn.tree import DecisionTreeClassifier as skDecisionTreeClassifier\n",
    "from sklearn.ensemble import RandomForestClassifier as skRandomForestClassifier\n",
    "from sklearn.linear_model import LogisticRegression as skLogisticRegression\n"
   ]
  },
  {
   "cell_type": "code",
   "execution_count": 2,
   "metadata": {},
   "outputs": [],
   "source": [
    "# Create the data for classification:\n",
    "X, y = make_classification(\n",
    "    n_features=30,\n",
    "    n_redundant=0,\n",
    "    n_informative=2,\n",
    "    random_state=2, \n",
    "    n_clusters_per_class=1,\n",
    "    n_samples=500,\n",
    "    \n",
    ")\n"
   ]
  },
  {
   "cell_type": "code",
   "execution_count": 3,
   "metadata": {},
   "outputs": [],
   "source": [
    "# Retrieve train and test sets:\n",
    "X_train, X_test, y_train, y_test = train_test_split(X, y, test_size=0.3, random_state=42)"
   ]
  },
  {
   "cell_type": "code",
   "execution_count": 4,
   "metadata": {},
   "outputs": [
    {
     "name": "stdout",
     "output_type": "stream",
     "text": [
      "149 examples over 150 have an FHE inference equal to the clear inference.\n"
     ]
    }
   ],
   "source": [
    "# Instantiate the model:\n",
    "model = LogisticRegression(n_bits=8, random_state=42)\n",
    "sk_model = skLogisticRegression(random_state=42)\n",
    "\n",
    "# Fit the model:\n",
    "model.fit(X_train, y_train)\n",
    "sk_model.fit(X_train, y_train)\n",
    "\n",
    "# Evaluate the model on the test set in clear:\n",
    "y_pred_clear = sk_model.predict(X_test)\n",
    "\n",
    "# Compile the model:\n",
    "model.compile(X_train)\n",
    "\n",
    "# Perform the inference in FHE:\n",
    "y_pred_fhe = model.predict(X_test, fhe=\"execute\")\n",
    "\n",
    "# Assert that FHE predictions are the same as the clear predictions:\n",
    "print(\n",
    "    f\"{(y_pred_fhe == y_pred_clear).sum()} examples over {len(y_pred_fhe)} \"\n",
    "    \"have an FHE inference equal to the clear inference.\"\n",
    ")"
   ]
  },
  {
   "cell_type": "markdown",
   "metadata": {},
   "source": [
    "---"
   ]
  },
  {
   "cell_type": "code",
   "execution_count": null,
   "metadata": {},
   "outputs": [
    {
     "name": "stdout",
     "output_type": "stream",
     "text": [
      "147 examples over 150 have an FHE inference equal to the clear inference.\n"
     ]
    },
    {
     "ename": "",
     "evalue": "",
     "output_type": "error",
     "traceback": [
      "\u001b[1;31mThe Kernel crashed while executing code in the current cell or a previous cell. \n",
      "\u001b[1;31mPlease review the code in the cell(s) to identify a possible cause of the failure. \n",
      "\u001b[1;31mClick <a href='https://aka.ms/vscodeJupyterKernelCrash'>here</a> for more info. \n",
      "\u001b[1;31mView Jupyter <a href='command:jupyter.viewOutput'>log</a> for further details."
     ]
    }
   ],
   "source": [
    "# Instantiate the model:\n",
    "model = DecisionTreeClassifier(n_bits=8, random_state=42)\n",
    "sk_model = skDecisionTreeClassifier(random_state=42)\n",
    "\n",
    "# Fit the model:\n",
    "model.fit(X_train, y_train)\n",
    "sk_model.fit(X_train, y_train)\n",
    "\n",
    "# Evaluate the model on the test set in clear:\n",
    "y_pred_clear = sk_model.predict(X_test)\n",
    "\n",
    "# Compile the model:\n",
    "model.compile(X_train)\n",
    "\n",
    "# Perform the inference in FHE:\n",
    "y_pred_fhe = model.predict(X_test, fhe=\"execute\")\n",
    "\n",
    "# Assert that FHE predictions are the same as the clear predictions:\n",
    "print(\n",
    "    f\"{(y_pred_fhe == y_pred_clear).sum()} examples over {len(y_pred_fhe)} \"\n",
    "    \"have an FHE inference equal to the clear inference.\"\n",
    ")"
   ]
  },
  {
   "cell_type": "markdown",
   "metadata": {},
   "source": [
    "---"
   ]
  },
  {
   "cell_type": "code",
   "execution_count": null,
   "metadata": {},
   "outputs": [],
   "source": [
    "# Instantiate the model:\n",
    "model = RandomForestClassifier(n_bits=8, random_state=42)\n",
    "sk_model = skRandomForestClassifier(random_state=42)\n",
    "\n",
    "# Fit the model:\n",
    "model.fit(X_train, y_train)\n",
    "sk_model.fit(X_train, y_train)\n",
    "\n",
    "# Evaluate the model on the test set in clear:\n",
    "y_pred_clear = sk_model.predict(X_test)\n",
    "\n",
    "# Compile the model:\n",
    "model.compile(X_train)\n",
    "\n",
    "# Perform the inference in FHE:\n",
    "y_pred_fhe = model.predict(X_test, fhe=\"execute\")\n",
    "\n",
    "# Assert that FHE predictions are the same as the clear predictions:\n",
    "print(\n",
    "    f\"{(y_pred_fhe == y_pred_clear).sum()} examples over {len(y_pred_fhe)} \"\n",
    "    \"have an FHE inference equal to the clear inference.\"\n",
    ")"
   ]
  },
  {
   "cell_type": "code",
   "execution_count": null,
   "metadata": {},
   "outputs": [],
   "source": []
  }
 ],
 "metadata": {
  "kernelspec": {
   "display_name": "concrete",
   "language": "python",
   "name": "python3"
  },
  "language_info": {
   "codemirror_mode": {
    "name": "ipython",
    "version": 3
   },
   "file_extension": ".py",
   "mimetype": "text/x-python",
   "name": "python",
   "nbconvert_exporter": "python",
   "pygments_lexer": "ipython3",
   "version": "3.10.15"
  }
 },
 "nbformat": 4,
 "nbformat_minor": 2
}
