{
 "cells": [
  {
   "cell_type": "code",
   "execution_count": null,
   "metadata": {},
   "outputs": [],
   "source": [
    "import pandas as pd\n",
    "import numpy as np\n",
    "\n",
    "import diffprivlib.tools as dp"
   ]
  },
  {
   "cell_type": "code",
   "execution_count": null,
   "metadata": {},
   "outputs": [],
   "source": [
    "from bs4 import BeautifulSoup"
   ]
  },
  {
   "cell_type": "code",
   "execution_count": null,
   "metadata": {},
   "outputs": [],
   "source": [
    "pathname = ''"
   ]
  },
  {
   "cell_type": "code",
   "execution_count": null,
   "metadata": {},
   "outputs": [],
   "source": [
    "with open(pathname, 'r') as f:\n",
    "    data = f.read()"
   ]
  },
  {
   "cell_type": "code",
   "execution_count": null,
   "metadata": {},
   "outputs": [],
   "source": [
    "soup = BeautifulSoup(data, features='xml')"
   ]
  },
  {
   "cell_type": "code",
   "execution_count": null,
   "metadata": {},
   "outputs": [],
   "source": [
    "records = soup.find_all(\"Record\")"
   ]
  },
  {
   "cell_type": "code",
   "execution_count": null,
   "metadata": {},
   "outputs": [],
   "source": [
    "def convert_record_to_dict(record):\n",
    "    data = {\n",
    "            'type': record.get('type'),\n",
    "            'source_name': record.get('sourceName'),\n",
    "            'source_version': record.get('sourceVersion'),\n",
    "            'unit': record.get('unit'),\n",
    "            'value': record.get('value'),\n",
    "            'creation_date': record.get('creationDate'),\n",
    "            'start_date': record.get('startDate'),\n",
    "            'end_date': record.get('endDate')\n",
    "        }\n",
    "    \n",
    "    return data\n",
    "    "
   ]
  },
  {
   "cell_type": "code",
   "execution_count": null,
   "metadata": {},
   "outputs": [],
   "source": [
    "type_parameter = \"HKQuantityTypeIdentifierStepCount\"\n",
    "\n",
    "data_list = []\n",
    "\n",
    "for record in records:\n",
    "    if record.get(\"type\") == type_parameter: \n",
    "        data_list.append(convert_record_to_dict(record))"
   ]
  },
  {
   "cell_type": "code",
   "execution_count": null,
   "metadata": {},
   "outputs": [],
   "source": [
    "df = pd.DataFrame(data_list)"
   ]
  },
  {
   "cell_type": "code",
   "execution_count": null,
   "metadata": {},
   "outputs": [],
   "source": [
    "# Columns that should be converted to float\n",
    "float_columns = ['value']  # Add other numeric columns as needed\n",
    "\n",
    "# Columns that should be converted to datetime\n",
    "datetime_columns = ['creation_date', 'start_date', 'end_date']\n",
    "\n",
    "# Convert float columns\n",
    "for col in float_columns:\n",
    "    if col in df.columns:\n",
    "        df[col] = pd.to_numeric(df[col], errors='coerce')\n",
    "\n",
    "# Convert datetime columns\n",
    "for col in datetime_columns:\n",
    "    if col in df.columns:\n",
    "        df[col] = pd.to_datetime(df[col], errors='coerce')\n",
    "        \n",
    "# use end date as a baseline\n",
    "df['date'] = df['end_date'].dt.strftime(\"%Y-%m-%d\")"
   ]
  },
  {
   "cell_type": "code",
   "execution_count": null,
   "metadata": {},
   "outputs": [],
   "source": [
    "summary_df = df.groupby('date')['value'].agg(['sum', 'count']).reset_index()"
   ]
  },
  {
   "cell_type": "code",
   "execution_count": null,
   "metadata": {},
   "outputs": [],
   "source": [
    "summary_df.columns = ['date', 'step_count', 'step_entries']"
   ]
  },
  {
   "cell_type": "code",
   "execution_count": null,
   "metadata": {},
   "outputs": [],
   "source": [
    "summary_df"
   ]
  },
  {
   "cell_type": "code",
   "execution_count": null,
   "metadata": {},
   "outputs": [],
   "source": [
    "summary_df.describe()"
   ]
  },
  {
   "cell_type": "markdown",
   "metadata": {},
   "source": [
    "# Create the differential private sums"
   ]
  },
  {
   "cell_type": "code",
   "execution_count": null,
   "metadata": {},
   "outputs": [],
   "source": [
    "dp_df = []\n",
    "epsilon = 0.5\n",
    "\n",
    "for date in df['date'].unique():\n",
    "    record_values = df[df['date'] == date]['value']\n",
    "    dp_df.append({\n",
    "        'date': date,\n",
    "        'dp_step_count': dp.sum(\n",
    "            record_values, \n",
    "            epsilon=epsilon, \n",
    "            bounds=(1, record_values.max())),\n",
    "        'dp_step_entries': dp.count_nonzero(\n",
    "            record_values, \n",
    "            epsilon=epsilon\n",
    "        )\n",
    "    })\n",
    "    \n",
    "dp_df = pd.DataFrame(dp_df)"
   ]
  },
  {
   "cell_type": "code",
   "execution_count": null,
   "metadata": {},
   "outputs": [],
   "source": [
    "dp_df.describe()"
   ]
  },
  {
   "cell_type": "code",
   "execution_count": null,
   "metadata": {},
   "outputs": [],
   "source": [
    "summary_df.describe()   "
   ]
  },
  {
   "cell_type": "code",
   "execution_count": null,
   "metadata": {},
   "outputs": [],
   "source": [
    "summary_df.to_json(\"daily_steps.json\")\n",
    "dp_df.to_json(\"dp_daily_steps.json\")"
   ]
  },
  {
   "cell_type": "code",
   "execution_count": null,
   "metadata": {},
   "outputs": [],
   "source": []
  },
  {
   "cell_type": "code",
   "execution_count": null,
   "metadata": {},
   "outputs": [],
   "source": []
  },
  {
   "cell_type": "code",
   "execution_count": null,
   "metadata": {},
   "outputs": [],
   "source": []
  }
 ],
 "metadata": {
  "kernelspec": {
   "display_name": "aidp",
   "language": "python",
   "name": "python3"
  },
  "language_info": {
   "codemirror_mode": {
    "name": "ipython",
    "version": 3
   },
   "file_extension": ".py",
   "mimetype": "text/x-python",
   "name": "python",
   "nbconvert_exporter": "python",
   "pygments_lexer": "ipython3",
   "version": "3.10.15"
  }
 },
 "nbformat": 4,
 "nbformat_minor": 2
}
